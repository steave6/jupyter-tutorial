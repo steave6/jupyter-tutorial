{
 "cells": [
  {
   "cell_type": "code",
   "execution_count": 12,
   "metadata": {},
   "outputs": [
    {
     "name": "stdout",
     "output_type": "stream",
     "text": [
      "Value of the European Call Option 8.071\n"
     ]
    }
   ],
   "source": [
    "from numpy import *\n",
    "# set parameters\n",
    "S0 = 100\n",
    "K = 105\n",
    "T = 1.0\n",
    "r = 0.05\n",
    "sigma = 0.2\n",
    "# how many samples we are using\n",
    "I = 100000\n",
    "random.seed(103)\n",
    "z = random.standard_normal(I)\n",
    "ST = S0 * exp((r - 0.5 * sigma ** 2) * T + sigma * sqrt(T) * z)\n",
    "hT = maximum(ST - K, 0)\n",
    "C0 = exp(-r * T) * sum(hT) / I\n",
    "# tell user results\n",
    "print (\"Value of the European Call Option %5.3f\" % C0)"
   ]
  },
  {
   "cell_type": "code",
   "execution_count": 13,
   "metadata": {},
   "outputs": [
    {
     "name": "stdout",
     "output_type": "stream",
     "text": [
      "Price: 14.4452\n"
     ]
    }
   ],
   "source": [
    "import datetime\n",
    "import random\n",
    "import math\n",
    "# import exp, sqrt\n",
    "random.seed(103)\n",
    "def generate_asset_price(S,v,r,T):\n",
    "    return S * math.exp((r - 0.5 * v**2) * T + v * math.sqrt(T) * random.gauss(0,1.0))\n",
    "def call_payoff(S_T,K):\n",
    "    return max(0.0,S_T-K)\n",
    "S = 857.29 # underlying price\n",
    "v = 0.2076 # vol of 20.76%\n",
    "r = 0.0014 # rate of 0.14%\n",
    "T = (datetime.date(2013,9,21) - datetime.date(2013,9,3)).days / 365.0\n",
    "K = 860.\n",
    "simulations = 90000\n",
    "payoffs = []\n",
    "discount_factor = math.exp(-r * T)\n",
    "for i in range(simulations):\n",
    "    S_T = generate_asset_price(S,v,r,T)\n",
    "    payoffs.append(\n",
    "        call_payoff(S_T, K)\n",
    "    )\n",
    "price = discount_factor * (sum(payoffs) / float(simulations))\n",
    "print ('Price: %.4f' % price)"
   ]
  },
  {
   "cell_type": "code",
   "execution_count": 20,
   "metadata": {},
   "outputs": [
    {
     "data": {
      "text/plain": [
       "0.907958984375"
      ]
     },
     "execution_count": 20,
     "metadata": {},
     "output_type": "execute_result"
    }
   ],
   "source": [
    "##############################################\n",
    "# Biased/unbiased  recursion of heads OR tails\n",
    "##############################################\n",
    "import numpy as np\n",
    "import math\n",
    "\n",
    "N = 14     # number of flips\n",
    "m = 3      # length of run (must be  > 1 and <= N/2)\n",
    "p = 0.5   # P(heads)\n",
    "\n",
    "prob = np.repeat(0.0,N)\n",
    "h = np.repeat(0.0,N)\n",
    "t = np.repeat(0.0,N)\n",
    "\n",
    "h[m] = math.pow(p,m)\n",
    "t[m] = math.pow(1-p,m)\n",
    "prob[m] = h[m] + t[m]\n",
    "\n",
    "for n in range(m+1,2*m):\n",
    "  h[n] = (1-p)*math.pow(p,m)\n",
    "  t[n] = p*math.pow(1-p,m)\n",
    "  prob[n] = prob[n-1] + h[n] + t[n]\n",
    "\n",
    "\n",
    "for n in range(2*m,N):\n",
    "  h[n] = ((1-p) - t[n-m] - prob[n-m-1]*(1-p))*math.pow(p,m)\n",
    "  t[n] = (p - h[n-m] - prob[n-m-1]*p)*math.pow(1-p,m)\n",
    "  prob[n] = prob[n-1] + h[n] + t[n]\n",
    "\n",
    "prob[N-1]  "
   ]
  },
  {
   "cell_type": "code",
   "execution_count": null,
   "metadata": {},
   "outputs": [],
   "source": []
  }
 ],
 "metadata": {
  "kernelspec": {
   "display_name": "Python 3",
   "language": "python",
   "name": "python3"
  },
  "language_info": {
   "codemirror_mode": {
    "name": "ipython",
    "version": 3
   },
   "file_extension": ".py",
   "mimetype": "text/x-python",
   "name": "python",
   "nbconvert_exporter": "python",
   "pygments_lexer": "ipython3",
   "version": "3.6.3"
  }
 },
 "nbformat": 4,
 "nbformat_minor": 2
}
